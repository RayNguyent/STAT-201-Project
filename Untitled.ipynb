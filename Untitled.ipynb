{
 "cells": [
  {
   "cell_type": "markdown",
   "id": "7452abb9-50f5-4514-9d7b-7ff28038e3dc",
   "metadata": {},
   "source": [
    "# Statistical Inference Project"
   ]
  },
  {
   "cell_type": "markdown",
   "id": "7c6ad0b6-62b9-487f-8b6e-1e6ecac4f496",
   "metadata": {},
   "source": [
    "## Introduction\n",
    "At the end of 2019, the world witnessed a horrible news about the advent of a newly found yet deadly disease, Coronavirus disease (COVID-19). COVID-19  is a contagious disease that is caused by SARS-CoV-2, the severe acute respiratory syndrome coronavirus2. The first case was found in Wuhan, China, and quickly spread throughout the globe, leading to the COVID-19 pandemic. Common symtomps of COVID-19 vary, but usually include cough, fever, breathing difficulties, taste loss, smell loss. Many cases experienced critical symtomps like respiratory failure, multiorgan dysfunction, and ultimately decease. Several vaccines have been timely developed to contain the spread of this disease worldwide. Today we will look into the  situation of many countries that have implemented mass vaccination campaigns to see that if vaccines could eventually reduce the death rate due to COVID-19.\n",
    "\n",
    "\n",
    "Our data consists of...."
   ]
  },
  {
   "cell_type": "code",
   "execution_count": 1,
   "id": "44c9328b-30db-452e-92e2-2d2e441cf583",
   "metadata": {},
   "outputs": [
    {
     "name": "stderr",
     "output_type": "stream",
     "text": [
      "── \u001b[1mAttaching packages\u001b[22m ─────────────────────────────────────── tidyverse 1.3.2 ──\n",
      "\u001b[32m✔\u001b[39m \u001b[34mggplot2\u001b[39m 3.3.6      \u001b[32m✔\u001b[39m \u001b[34mpurrr  \u001b[39m 0.3.4 \n",
      "\u001b[32m✔\u001b[39m \u001b[34mtibble \u001b[39m 3.1.8      \u001b[32m✔\u001b[39m \u001b[34mdplyr  \u001b[39m 1.0.10\n",
      "\u001b[32m✔\u001b[39m \u001b[34mtidyr  \u001b[39m 1.2.1      \u001b[32m✔\u001b[39m \u001b[34mstringr\u001b[39m 1.4.1 \n",
      "\u001b[32m✔\u001b[39m \u001b[34mreadr  \u001b[39m 2.1.2      \u001b[32m✔\u001b[39m \u001b[34mforcats\u001b[39m 0.5.2 \n",
      "── \u001b[1mConflicts\u001b[22m ────────────────────────────────────────── tidyverse_conflicts() ──\n",
      "\u001b[31m✖\u001b[39m \u001b[34mdplyr\u001b[39m::\u001b[32mfilter()\u001b[39m masks \u001b[34mstats\u001b[39m::filter()\n",
      "\u001b[31m✖\u001b[39m \u001b[34mdplyr\u001b[39m::\u001b[32mlag()\u001b[39m    masks \u001b[34mstats\u001b[39m::lag()\n"
     ]
    }
   ],
   "source": [
    "library(tidyverse)"
   ]
  },
  {
   "cell_type": "code",
   "execution_count": null,
   "id": "ee1ed35d-8944-4913-8a84-172c39a60828",
   "metadata": {},
   "outputs": [],
   "source": [
    "data <- read.csv(\"data/owid-covid-data.csv\")\n",
    "head(data)\n",
    "?data"
   ]
  },
  {
   "cell_type": "code",
   "execution_count": null,
   "id": "02cca525-59ee-4d93-95ae-d797da74f40d",
   "metadata": {},
   "outputs": [],
   "source": []
  }
 ],
 "metadata": {
  "kernelspec": {
   "display_name": "R",
   "language": "R",
   "name": "ir"
  },
  "language_info": {
   "codemirror_mode": "r",
   "file_extension": ".r",
   "mimetype": "text/x-r-source",
   "name": "R",
   "pygments_lexer": "r",
   "version": "4.1.3"
  }
 },
 "nbformat": 4,
 "nbformat_minor": 5
}
